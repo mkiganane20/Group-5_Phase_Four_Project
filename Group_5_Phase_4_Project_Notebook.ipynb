{
 "cells": [
  {
   "cell_type": "markdown",
   "id": "8018a5a6",
   "metadata": {},
   "source": [
    "# PHASE FOUR PROJECT - GROUP 5\n",
    "\n",
    "## Building a MovieLens Recommender System \n",
    "\n",
    "Authors:\n",
    "1. Michelle Chekwoti\n",
    "2. Joshua Karanja \n",
    "3. Myrajoy Kiganane"
   ]
  },
  {
   "cell_type": "markdown",
   "id": "b152f4bd",
   "metadata": {},
   "source": [
    "### 1. Project Overview\n",
    "\n",
    "This project explores the development of a personalized movie recommendation system using the MovieLens dataset, leveraging advanced supervised learning techniques to solve a regression problem—predicting user ratings for movies. The core business problem is to improve content discovery and user engagement on a movie streaming platform by offering accurate, data-driven movie recommendations.\n",
    "\n",
    "The dataset contains over 33 million movie ratings and 2 million tag applications across more than 86,000 movies, contributed by over 330,000 users. Key features include user IDs, movie IDs, genres and ratings (on a 0.5–5.0 scale). Given the richness of this dataset, both collaborative filtering and content-based recommendation approaches were explored.\n",
    "\n",
    "The project uses Python and tools such as pandas,numpy, scikit-learn, Surprise, matplotlib, and seaborn for data handling, modeling, and visualization. Data preparation involved merging multiple CSVs into a relational structure, cleaning and encoding categorical features, and creating user-item interaction matrices. For collaborative filtering, the Surprise library’s KNNBasic algorithm was used, while cosine similarity was employed for content-based filtering on genres and tag relevance.\n",
    "\n",
    "Model performance was validated using train-test split and cross-validation, with evaluation metrics including Root Mean Squared Error (RMSE), Mean Absolute Error (MAE), and Precision@k. The hybrid approach proved most effective in balancing predictive accuracy with recommendation diversity.\n",
    "\n",
    "Overall, the project demonstrates a practical and scalable recommendation system that can help streaming platforms increase user retention and satisfaction through personalized movie suggestions based on user preferences, viewing history, and genre affinity."
   ]
  },
  {
   "cell_type": "markdown",
   "id": "ae6e6fd8",
   "metadata": {},
   "source": [
    "## 1.1 Business Understanding "
   ]
  },
  {
   "cell_type": "markdown",
   "id": "1433efb3",
   "metadata": {},
   "source": [
    "### 1.1.1Business Problem:"
   ]
  },
  {
   "cell_type": "markdown",
   "id": "39f5990d",
   "metadata": {},
   "source": [
    "How can we leverage user ratings and tagging behavior to improve personalized movie recommendations, thereby increasing user engagement and satisfaction on a movie recommendation platform."
   ]
  },
  {
   "cell_type": "markdown",
   "id": "81325626",
   "metadata": {},
   "source": [
    "### 1.1.2 Key Business Questions;"
   ]
  },
  {
   "cell_type": "markdown",
   "id": "5e8704cb",
   "metadata": {},
   "source": [
    "- Which model (SVD or KNNBasic) gives the most accurate movie recommendations?\n",
    "- What is the optimal number of latent factors (n_factors) to achieve the lowest error in SVD?\n",
    "- How do different KNN settings (k-values and similarity metrics) impact prediction accuracy?\n"
   ]
  },
  {
   "cell_type": "markdown",
   "id": "68f23a34",
   "metadata": {},
   "source": [
    "## 2. Data Understanding"
   ]
  },
  {
   "cell_type": "markdown",
   "id": "a4b79858",
   "metadata": {},
   "source": [
    "The dataset is from MovieLens (https://grouplens.org/datasets/movielens/latest/). This is a movie recommendation platform, which captures user activity in the form of 5-star ratings and free-text tags. It includes 100,836 ratings and 3,683 tag entries for a total of 9,742 movies. These interactions were recorded by 610 randomly selected users between March 29, 1996, and September 24, 2018. The dataset itself was compiled on September 26, 2018.\n",
    "\n",
    "Only users who had rated at least 20 movies were included. To protect user privacy, no demographic details are provided—each user is identified only by a unique ID.\n",
    "\n",
    "The dataset is organized into four CSV files: ratings.csv, tags.csv, movies.csv, links.csv"
   ]
  },
  {
   "cell_type": "markdown",
   "id": "0cdc9fc1",
   "metadata": {},
   "source": [
    "### 2.1.1. Data Preparation\n",
    "\n",
    "This entails;\n",
    "- Importing necessary libraries\n",
    "- Loading and Accessing of the dataset\n",
    "- merging datasets \n",
    "- Data Cleaning and preparation which involves: Accessing necessary data for analysis,\n",
    "- Handling missing values and Standardizing columns.\n"
   ]
  },
  {
   "cell_type": "markdown",
   "id": "cda05e9a",
   "metadata": {},
   "source": [
    "### 2.1.1.1. Importing necessary libraries"
   ]
  },
  {
   "cell_type": "code",
   "execution_count": 1,
   "id": "a7ce0ede",
   "metadata": {},
   "outputs": [],
   "source": [
    "#Import relevant Libraries\n",
    "\n",
    "import numpy as np\n",
    "import pandas as pd\n",
    "import sqlite3\n",
    "from scipy import stats\n",
    "import matplotlib.pyplot as plt\n",
    "import seaborn as sns"
   ]
  },
  {
   "cell_type": "markdown",
   "id": "79a3acc3",
   "metadata": {},
   "source": [
    "### 2.1.1.2. Accessing the Databases"
   ]
  },
  {
   "cell_type": "code",
   "execution_count": 2,
   "id": "4ad7a9cf",
   "metadata": {},
   "outputs": [
    {
     "data": {
      "text/html": [
       "<div>\n",
       "<style scoped>\n",
       "    .dataframe tbody tr th:only-of-type {\n",
       "        vertical-align: middle;\n",
       "    }\n",
       "\n",
       "    .dataframe tbody tr th {\n",
       "        vertical-align: top;\n",
       "    }\n",
       "\n",
       "    .dataframe thead th {\n",
       "        text-align: right;\n",
       "    }\n",
       "</style>\n",
       "<table border=\"1\" class=\"dataframe\">\n",
       "  <thead>\n",
       "    <tr style=\"text-align: right;\">\n",
       "      <th></th>\n",
       "      <th>movieId</th>\n",
       "      <th>title</th>\n",
       "      <th>genres</th>\n",
       "    </tr>\n",
       "  </thead>\n",
       "  <tbody>\n",
       "    <tr>\n",
       "      <th>0</th>\n",
       "      <td>1</td>\n",
       "      <td>Toy Story (1995)</td>\n",
       "      <td>Adventure|Animation|Children|Comedy|Fantasy</td>\n",
       "    </tr>\n",
       "    <tr>\n",
       "      <th>1</th>\n",
       "      <td>2</td>\n",
       "      <td>Jumanji (1995)</td>\n",
       "      <td>Adventure|Children|Fantasy</td>\n",
       "    </tr>\n",
       "    <tr>\n",
       "      <th>2</th>\n",
       "      <td>3</td>\n",
       "      <td>Grumpier Old Men (1995)</td>\n",
       "      <td>Comedy|Romance</td>\n",
       "    </tr>\n",
       "    <tr>\n",
       "      <th>3</th>\n",
       "      <td>4</td>\n",
       "      <td>Waiting to Exhale (1995)</td>\n",
       "      <td>Comedy|Drama|Romance</td>\n",
       "    </tr>\n",
       "    <tr>\n",
       "      <th>4</th>\n",
       "      <td>5</td>\n",
       "      <td>Father of the Bride Part II (1995)</td>\n",
       "      <td>Comedy</td>\n",
       "    </tr>\n",
       "  </tbody>\n",
       "</table>\n",
       "</div>"
      ],
      "text/plain": [
       "   movieId                               title  \\\n",
       "0        1                    Toy Story (1995)   \n",
       "1        2                      Jumanji (1995)   \n",
       "2        3             Grumpier Old Men (1995)   \n",
       "3        4            Waiting to Exhale (1995)   \n",
       "4        5  Father of the Bride Part II (1995)   \n",
       "\n",
       "                                        genres  \n",
       "0  Adventure|Animation|Children|Comedy|Fantasy  \n",
       "1                   Adventure|Children|Fantasy  \n",
       "2                               Comedy|Romance  \n",
       "3                         Comedy|Drama|Romance  \n",
       "4                                       Comedy  "
      ]
     },
     "execution_count": 2,
     "metadata": {},
     "output_type": "execute_result"
    }
   ],
   "source": [
    "#Loading the dataset\n",
    "df_movies = pd.read_csv('movies.csv')\n",
    "df_movies.head()"
   ]
  },
  {
   "cell_type": "code",
   "execution_count": 3,
   "id": "ccdb0c51",
   "metadata": {},
   "outputs": [
    {
     "data": {
      "text/plain": [
       "(86537, 3)"
      ]
     },
     "execution_count": 3,
     "metadata": {},
     "output_type": "execute_result"
    }
   ],
   "source": [
    "df_movies.shape"
   ]
  },
  {
   "cell_type": "code",
   "execution_count": 4,
   "id": "1081771a",
   "metadata": {},
   "outputs": [
    {
     "data": {
      "text/html": [
       "<div>\n",
       "<style scoped>\n",
       "    .dataframe tbody tr th:only-of-type {\n",
       "        vertical-align: middle;\n",
       "    }\n",
       "\n",
       "    .dataframe tbody tr th {\n",
       "        vertical-align: top;\n",
       "    }\n",
       "\n",
       "    .dataframe thead th {\n",
       "        text-align: right;\n",
       "    }\n",
       "</style>\n",
       "<table border=\"1\" class=\"dataframe\">\n",
       "  <thead>\n",
       "    <tr style=\"text-align: right;\">\n",
       "      <th></th>\n",
       "      <th>userId</th>\n",
       "      <th>movieId</th>\n",
       "      <th>rating</th>\n",
       "      <th>timestamp</th>\n",
       "    </tr>\n",
       "  </thead>\n",
       "  <tbody>\n",
       "    <tr>\n",
       "      <th>0</th>\n",
       "      <td>1</td>\n",
       "      <td>1</td>\n",
       "      <td>4.0</td>\n",
       "      <td>1225734739</td>\n",
       "    </tr>\n",
       "    <tr>\n",
       "      <th>1</th>\n",
       "      <td>1</td>\n",
       "      <td>110</td>\n",
       "      <td>4.0</td>\n",
       "      <td>1225865086</td>\n",
       "    </tr>\n",
       "    <tr>\n",
       "      <th>2</th>\n",
       "      <td>1</td>\n",
       "      <td>158</td>\n",
       "      <td>4.0</td>\n",
       "      <td>1225733503</td>\n",
       "    </tr>\n",
       "    <tr>\n",
       "      <th>3</th>\n",
       "      <td>1</td>\n",
       "      <td>260</td>\n",
       "      <td>4.5</td>\n",
       "      <td>1225735204</td>\n",
       "    </tr>\n",
       "    <tr>\n",
       "      <th>4</th>\n",
       "      <td>1</td>\n",
       "      <td>356</td>\n",
       "      <td>5.0</td>\n",
       "      <td>1225735119</td>\n",
       "    </tr>\n",
       "  </tbody>\n",
       "</table>\n",
       "</div>"
      ],
      "text/plain": [
       "   userId  movieId  rating   timestamp\n",
       "0       1        1     4.0  1225734739\n",
       "1       1      110     4.0  1225865086\n",
       "2       1      158     4.0  1225733503\n",
       "3       1      260     4.5  1225735204\n",
       "4       1      356     5.0  1225735119"
      ]
     },
     "execution_count": 4,
     "metadata": {},
     "output_type": "execute_result"
    }
   ],
   "source": [
    "df_ratings = pd.read_csv('ratings.csv')\n",
    "df_ratings.head()"
   ]
  },
  {
   "cell_type": "code",
   "execution_count": 5,
   "id": "666b08d8",
   "metadata": {},
   "outputs": [
    {
     "data": {
      "text/plain": [
       "(33832162, 4)"
      ]
     },
     "execution_count": 5,
     "metadata": {},
     "output_type": "execute_result"
    }
   ],
   "source": [
    "df_ratings.shape"
   ]
  },
  {
   "cell_type": "markdown",
   "id": "cff9047c",
   "metadata": {},
   "source": [
    "2.1.1.3. Merging the Databases"
   ]
  },
  {
   "cell_type": "code",
   "execution_count": 6,
   "id": "0f65d287",
   "metadata": {},
   "outputs": [
    {
     "data": {
      "text/html": [
       "<div>\n",
       "<style scoped>\n",
       "    .dataframe tbody tr th:only-of-type {\n",
       "        vertical-align: middle;\n",
       "    }\n",
       "\n",
       "    .dataframe tbody tr th {\n",
       "        vertical-align: top;\n",
       "    }\n",
       "\n",
       "    .dataframe thead th {\n",
       "        text-align: right;\n",
       "    }\n",
       "</style>\n",
       "<table border=\"1\" class=\"dataframe\">\n",
       "  <thead>\n",
       "    <tr style=\"text-align: right;\">\n",
       "      <th></th>\n",
       "      <th>userId</th>\n",
       "      <th>movieId</th>\n",
       "      <th>rating</th>\n",
       "      <th>timestamp</th>\n",
       "      <th>title</th>\n",
       "      <th>genres</th>\n",
       "    </tr>\n",
       "  </thead>\n",
       "  <tbody>\n",
       "    <tr>\n",
       "      <th>0</th>\n",
       "      <td>1</td>\n",
       "      <td>1</td>\n",
       "      <td>4.0</td>\n",
       "      <td>1225734739</td>\n",
       "      <td>Toy Story (1995)</td>\n",
       "      <td>Adventure|Animation|Children|Comedy|Fantasy</td>\n",
       "    </tr>\n",
       "    <tr>\n",
       "      <th>1</th>\n",
       "      <td>1</td>\n",
       "      <td>110</td>\n",
       "      <td>4.0</td>\n",
       "      <td>1225865086</td>\n",
       "      <td>Braveheart (1995)</td>\n",
       "      <td>Action|Drama|War</td>\n",
       "    </tr>\n",
       "    <tr>\n",
       "      <th>2</th>\n",
       "      <td>1</td>\n",
       "      <td>158</td>\n",
       "      <td>4.0</td>\n",
       "      <td>1225733503</td>\n",
       "      <td>Casper (1995)</td>\n",
       "      <td>Adventure|Children</td>\n",
       "    </tr>\n",
       "    <tr>\n",
       "      <th>3</th>\n",
       "      <td>1</td>\n",
       "      <td>260</td>\n",
       "      <td>4.5</td>\n",
       "      <td>1225735204</td>\n",
       "      <td>Star Wars: Episode IV - A New Hope (1977)</td>\n",
       "      <td>Action|Adventure|Sci-Fi</td>\n",
       "    </tr>\n",
       "    <tr>\n",
       "      <th>4</th>\n",
       "      <td>1</td>\n",
       "      <td>356</td>\n",
       "      <td>5.0</td>\n",
       "      <td>1225735119</td>\n",
       "      <td>Forrest Gump (1994)</td>\n",
       "      <td>Comedy|Drama|Romance|War</td>\n",
       "    </tr>\n",
       "  </tbody>\n",
       "</table>\n",
       "</div>"
      ],
      "text/plain": [
       "   userId  movieId  rating   timestamp  \\\n",
       "0       1        1     4.0  1225734739   \n",
       "1       1      110     4.0  1225865086   \n",
       "2       1      158     4.0  1225733503   \n",
       "3       1      260     4.5  1225735204   \n",
       "4       1      356     5.0  1225735119   \n",
       "\n",
       "                                       title  \\\n",
       "0                           Toy Story (1995)   \n",
       "1                          Braveheart (1995)   \n",
       "2                              Casper (1995)   \n",
       "3  Star Wars: Episode IV - A New Hope (1977)   \n",
       "4                        Forrest Gump (1994)   \n",
       "\n",
       "                                        genres  \n",
       "0  Adventure|Animation|Children|Comedy|Fantasy  \n",
       "1                             Action|Drama|War  \n",
       "2                           Adventure|Children  \n",
       "3                      Action|Adventure|Sci-Fi  \n",
       "4                     Comedy|Drama|Romance|War  "
      ]
     },
     "execution_count": 6,
     "metadata": {},
     "output_type": "execute_result"
    }
   ],
   "source": [
    "# Merge to create new dataset\n",
    "merged_df = pd.merge(df_ratings, df_movies, on='movieId')\n",
    "merged_df.head()"
   ]
  },
  {
   "cell_type": "code",
   "execution_count": 7,
   "id": "0b72897e",
   "metadata": {},
   "outputs": [
    {
     "data": {
      "text/plain": [
       "userId       0\n",
       "movieId      0\n",
       "rating       0\n",
       "timestamp    0\n",
       "title        0\n",
       "genres       0\n",
       "dtype: int64"
      ]
     },
     "execution_count": 7,
     "metadata": {},
     "output_type": "execute_result"
    }
   ],
   "source": [
    "#Check null values\n",
    "merged_df.isnull().sum()"
   ]
  },
  {
   "cell_type": "markdown",
   "id": "6a7cc500",
   "metadata": {},
   "source": [
    "We notice that there are no null values in the merged data.Hence we can proceed and ensure the data contains the columns that we will be using for our analysis "
   ]
  },
  {
   "cell_type": "code",
   "execution_count": 8,
   "id": "76dfbf6b",
   "metadata": {},
   "outputs": [
    {
     "data": {
      "text/html": [
       "<div>\n",
       "<style scoped>\n",
       "    .dataframe tbody tr th:only-of-type {\n",
       "        vertical-align: middle;\n",
       "    }\n",
       "\n",
       "    .dataframe tbody tr th {\n",
       "        vertical-align: top;\n",
       "    }\n",
       "\n",
       "    .dataframe thead th {\n",
       "        text-align: right;\n",
       "    }\n",
       "</style>\n",
       "<table border=\"1\" class=\"dataframe\">\n",
       "  <thead>\n",
       "    <tr style=\"text-align: right;\">\n",
       "      <th></th>\n",
       "      <th>userId</th>\n",
       "      <th>movieId</th>\n",
       "      <th>rating</th>\n",
       "      <th>title</th>\n",
       "      <th>genres</th>\n",
       "    </tr>\n",
       "  </thead>\n",
       "  <tbody>\n",
       "    <tr>\n",
       "      <th>0</th>\n",
       "      <td>1</td>\n",
       "      <td>1</td>\n",
       "      <td>4.0</td>\n",
       "      <td>Toy Story (1995)</td>\n",
       "      <td>Adventure|Animation|Children|Comedy|Fantasy</td>\n",
       "    </tr>\n",
       "    <tr>\n",
       "      <th>1</th>\n",
       "      <td>1</td>\n",
       "      <td>110</td>\n",
       "      <td>4.0</td>\n",
       "      <td>Braveheart (1995)</td>\n",
       "      <td>Action|Drama|War</td>\n",
       "    </tr>\n",
       "    <tr>\n",
       "      <th>2</th>\n",
       "      <td>1</td>\n",
       "      <td>158</td>\n",
       "      <td>4.0</td>\n",
       "      <td>Casper (1995)</td>\n",
       "      <td>Adventure|Children</td>\n",
       "    </tr>\n",
       "    <tr>\n",
       "      <th>3</th>\n",
       "      <td>1</td>\n",
       "      <td>260</td>\n",
       "      <td>4.5</td>\n",
       "      <td>Star Wars: Episode IV - A New Hope (1977)</td>\n",
       "      <td>Action|Adventure|Sci-Fi</td>\n",
       "    </tr>\n",
       "    <tr>\n",
       "      <th>4</th>\n",
       "      <td>1</td>\n",
       "      <td>356</td>\n",
       "      <td>5.0</td>\n",
       "      <td>Forrest Gump (1994)</td>\n",
       "      <td>Comedy|Drama|Romance|War</td>\n",
       "    </tr>\n",
       "  </tbody>\n",
       "</table>\n",
       "</div>"
      ],
      "text/plain": [
       "   userId  movieId  rating                                      title  \\\n",
       "0       1        1     4.0                           Toy Story (1995)   \n",
       "1       1      110     4.0                          Braveheart (1995)   \n",
       "2       1      158     4.0                              Casper (1995)   \n",
       "3       1      260     4.5  Star Wars: Episode IV - A New Hope (1977)   \n",
       "4       1      356     5.0                        Forrest Gump (1994)   \n",
       "\n",
       "                                        genres  \n",
       "0  Adventure|Animation|Children|Comedy|Fantasy  \n",
       "1                             Action|Drama|War  \n",
       "2                           Adventure|Children  \n",
       "3                      Action|Adventure|Sci-Fi  \n",
       "4                     Comedy|Drama|Romance|War  "
      ]
     },
     "execution_count": 8,
     "metadata": {},
     "output_type": "execute_result"
    }
   ],
   "source": [
    "# Remove Timestamp\n",
    "merged_df = merged_df.drop(columns=['timestamp'])\n",
    "merged_df.head()"
   ]
  },
  {
   "cell_type": "code",
   "execution_count": 9,
   "id": "c9a5725c",
   "metadata": {},
   "outputs": [
    {
     "data": {
      "text/html": [
       "<div>\n",
       "<style scoped>\n",
       "    .dataframe tbody tr th:only-of-type {\n",
       "        vertical-align: middle;\n",
       "    }\n",
       "\n",
       "    .dataframe tbody tr th {\n",
       "        vertical-align: top;\n",
       "    }\n",
       "\n",
       "    .dataframe thead th {\n",
       "        text-align: right;\n",
       "    }\n",
       "</style>\n",
       "<table border=\"1\" class=\"dataframe\">\n",
       "  <thead>\n",
       "    <tr style=\"text-align: right;\">\n",
       "      <th></th>\n",
       "      <th>userId</th>\n",
       "      <th>movieId</th>\n",
       "      <th>rating</th>\n",
       "      <th>title</th>\n",
       "      <th>genres</th>\n",
       "    </tr>\n",
       "  </thead>\n",
       "  <tbody>\n",
       "    <tr>\n",
       "      <th>33832157</th>\n",
       "      <td>330975</td>\n",
       "      <td>8340</td>\n",
       "      <td>2.0</td>\n",
       "      <td>Escape from Alcatraz (1979)</td>\n",
       "      <td>Drama|Thriller</td>\n",
       "    </tr>\n",
       "    <tr>\n",
       "      <th>33832158</th>\n",
       "      <td>330975</td>\n",
       "      <td>8493</td>\n",
       "      <td>2.5</td>\n",
       "      <td>Memphis Belle (1990)</td>\n",
       "      <td>Action|Drama|War</td>\n",
       "    </tr>\n",
       "    <tr>\n",
       "      <th>33832159</th>\n",
       "      <td>330975</td>\n",
       "      <td>8622</td>\n",
       "      <td>4.0</td>\n",
       "      <td>Fahrenheit 9/11 (2004)</td>\n",
       "      <td>Documentary</td>\n",
       "    </tr>\n",
       "    <tr>\n",
       "      <th>33832160</th>\n",
       "      <td>330975</td>\n",
       "      <td>8665</td>\n",
       "      <td>3.0</td>\n",
       "      <td>Bourne Supremacy, The (2004)</td>\n",
       "      <td>Action|Crime|Thriller</td>\n",
       "    </tr>\n",
       "    <tr>\n",
       "      <th>33832161</th>\n",
       "      <td>330975</td>\n",
       "      <td>8783</td>\n",
       "      <td>2.5</td>\n",
       "      <td>Village, The (2004)</td>\n",
       "      <td>Drama|Mystery|Thriller</td>\n",
       "    </tr>\n",
       "  </tbody>\n",
       "</table>\n",
       "</div>"
      ],
      "text/plain": [
       "          userId  movieId  rating                         title  \\\n",
       "33832157  330975     8340     2.0   Escape from Alcatraz (1979)   \n",
       "33832158  330975     8493     2.5          Memphis Belle (1990)   \n",
       "33832159  330975     8622     4.0        Fahrenheit 9/11 (2004)   \n",
       "33832160  330975     8665     3.0  Bourne Supremacy, The (2004)   \n",
       "33832161  330975     8783     2.5           Village, The (2004)   \n",
       "\n",
       "                          genres  \n",
       "33832157          Drama|Thriller  \n",
       "33832158        Action|Drama|War  \n",
       "33832159             Documentary  \n",
       "33832160   Action|Crime|Thriller  \n",
       "33832161  Drama|Mystery|Thriller  "
      ]
     },
     "execution_count": 9,
     "metadata": {},
     "output_type": "execute_result"
    }
   ],
   "source": [
    "merged_df.tail()"
   ]
  },
  {
   "cell_type": "code",
   "execution_count": 10,
   "id": "9ded1ad9",
   "metadata": {},
   "outputs": [
    {
     "data": {
      "text/plain": [
       "(33832162, 5)"
      ]
     },
     "execution_count": 10,
     "metadata": {},
     "output_type": "execute_result"
    }
   ],
   "source": [
    "merged_df.shape"
   ]
  },
  {
   "cell_type": "markdown",
   "id": "c8653db9",
   "metadata": {},
   "source": [
    "### 2.1.1.4: Exploratory Data Analysis"
   ]
  },
  {
   "cell_type": "markdown",
   "id": "3fb9c576",
   "metadata": {},
   "source": [
    "*In order to obtain further understanding of the ratings data we shall find out the following information from the dataset used*"
   ]
  },
  {
   "cell_type": "code",
   "execution_count": 11,
   "id": "d49939bf",
   "metadata": {},
   "outputs": [
    {
     "name": "stdout",
     "output_type": "stream",
     "text": [
      "Number of ratings: 33832162\n",
      "Number of unique movieId's: 83239\n",
      "Number of unique users: 330975\n",
      "Average number of ratings per user: 102.22\n",
      "Average number of ratings per movie: 406.45\n"
     ]
    }
   ],
   "source": [
    "n_ratings = len(df_ratings)\n",
    "n_movies = df_ratings['movieId'].nunique()\n",
    "n_users = df_ratings['userId'].nunique()\n",
    "\n",
    "print(f\"Number of ratings: {n_ratings}\")\n",
    "print(f\"Number of unique movieId's: {n_movies}\")\n",
    "print(f\"Number of unique users: {n_users}\")\n",
    "print(f\"Average number of ratings per user: {round(n_ratings/n_users, 2)}\")\n",
    "print(f\"Average number of ratings per movie: {round(n_ratings/n_movies, 2)}\")"
   ]
  },
  {
   "cell_type": "markdown",
   "id": "4cd71095",
   "metadata": {},
   "source": [
    "### What is the distribution of movie ratings?"
   ]
  },
  {
   "cell_type": "code",
   "execution_count": 12,
   "id": "529e53bc",
   "metadata": {},
   "outputs": [
    {
     "data": {
      "image/png": "[encoded data removed]",
      "text/plain": [
       "<Figure size 640x480 with 1 Axes>"
      ]
     },
     "metadata": {},
     "output_type": "display_data"
    }
   ],
   "source": [
    "sns.countplot(x = 'rating', data = df_ratings)\n",
    "plt.title('Distribution of Movie Ratings', fontsize = 14)\n",
    "plt.xlabel('Rating', fontsize = 12)\n",
    "plt.ylabel('Count', fontsize = 12)\n",
    "plt.show()"
   ]
  },
  {
   "cell_type": "markdown",
   "id": "e06006e1",
   "metadata": {},
   "source": [
    "*This therefore indicates that most of the distribution of the ratings tend to be positive ratings with most lying from 3.0 to 4.0*"
   ]
  },
  {
   "cell_type": "code",
   "execution_count": 13,
   "id": "87fd2ceb",
   "metadata": {},
   "outputs": [
    {
     "ename": "NameError",
     "evalue": "name 'ratings' is not defined",
     "output_type": "error",
     "traceback": [
      "\u001b[31m---------------------------------------------------------------------------\u001b[39m",
      "\u001b[31mNameError\u001b[39m                                 Traceback (most recent call last)",
      "\u001b[36mCell\u001b[39m\u001b[36m \u001b[39m\u001b[32mIn[13]\u001b[39m\u001b[32m, line 1\u001b[39m\n\u001b[32m----> \u001b[39m\u001b[32m1\u001b[39m \u001b[38;5;28mprint\u001b[39m(\u001b[33mf\u001b[39m\u001b[33m\"\u001b[39m\u001b[33mMean global rating: \u001b[39m\u001b[38;5;132;01m{\u001b[39;00m\u001b[38;5;28mround\u001b[39m(\u001b[43mratings\u001b[49m[\u001b[33m'\u001b[39m\u001b[33mrating\u001b[39m\u001b[33m'\u001b[39m].mean(),\u001b[32m2\u001b[39m)\u001b[38;5;132;01m}\u001b[39;00m\u001b[33m.\u001b[39m\u001b[33m\"\u001b[39m)\n",
      "\u001b[31mNameError\u001b[39m: name 'ratings' is not defined"
     ]
    }
   ],
   "source": [
    "print(f\"Mean global rating: {round(ratings['rating'].mean(),2)}.\")"
   ]
  },
  {
   "cell_type": "code",
   "execution_count": null,
   "id": "c892844c",
   "metadata": {},
   "outputs": [],
   "source": [
    "mean_ratings = ratings.groupby('userId')['rating'].mean()\n",
    "mean_ratings.head()\n",
    "print(f\"Mean rating per user: {round(mean_ratings.mean(),2)}.\")"
   ]
  },
  {
   "cell_type": "markdown",
   "id": "3cf98e29",
   "metadata": {},
   "source": [
    "### Which movies are most frequently rated?"
   ]
  },
  {
   "cell_type": "code",
   "execution_count": null,
   "id": "7f711c29",
   "metadata": {},
   "outputs": [],
   "source": [
    "df_ratings['movieId'].value_counts()"
   ]
  },
  {
   "cell_type": "markdown",
   "id": "3915c7f4",
   "metadata": {},
   "source": [
    "From the information above, we are unable to identify the movie name, Therefore we shall *merge* the movieID dataset with the Ratings dataset"
   ]
  },
  {
   "cell_type": "code",
   "execution_count": null,
   "id": "08a030b9",
   "metadata": {},
   "outputs": [],
   "source": [
    "merged_df['title'].value_counts()"
   ]
  },
  {
   "cell_type": "code",
   "execution_count": 14,
   "id": "a48d3180",
   "metadata": {},
   "outputs": [
    {
     "data": {
      "text/plain": [
       "title\n",
       "Shawshank Redemption, The (1994)                         122296\n",
       "Forrest Gump (1994)                                      113581\n",
       "Pulp Fiction (1994)                                      108756\n",
       "Matrix, The (1999)                                       107056\n",
       "Silence of the Lambs, The (1991)                         101802\n",
       "Star Wars: Episode IV - A New Hope (1977)                 97202\n",
       "Fight Club (1999)                                         86207\n",
       "Schindler's List (1993)                                   84232\n",
       "Jurassic Park (1993)                                      83026\n",
       "Star Wars: Episode V - The Empire Strikes Back (1980)     80200\n",
       "Name: count, dtype: int64"
      ]
     },
     "execution_count": 14,
     "metadata": {},
     "output_type": "execute_result"
    }
   ],
   "source": [
    "#finding the top 10 highest rated movies\n",
    "merged_df['title'].value_counts().head(10)"
   ]
  },
  {
   "cell_type": "markdown",
   "id": "e7b66d3f",
   "metadata": {},
   "source": [
    "**What are the lowest and highest rated movies?**\n",
    "\n",
    "Which movie has the lowest and highest average rating?"
   ]
  },
  {
   "cell_type": "code",
   "execution_count": 15,
   "id": "62bed1cd",
   "metadata": {},
   "outputs": [
    {
     "data": {
      "text/html": [
       "<div>\n",
       "<style scoped>\n",
       "    .dataframe tbody tr th:only-of-type {\n",
       "        vertical-align: middle;\n",
       "    }\n",
       "\n",
       "    .dataframe tbody tr th {\n",
       "        vertical-align: top;\n",
       "    }\n",
       "\n",
       "    .dataframe thead th {\n",
       "        text-align: right;\n",
       "    }\n",
       "</style>\n",
       "<table border=\"1\" class=\"dataframe\">\n",
       "  <thead>\n",
       "    <tr style=\"text-align: right;\">\n",
       "      <th></th>\n",
       "      <th>movieId</th>\n",
       "      <th>title</th>\n",
       "      <th>genres</th>\n",
       "    </tr>\n",
       "  </thead>\n",
       "  <tbody>\n",
       "    <tr>\n",
       "      <th>5694</th>\n",
       "      <td>5805</td>\n",
       "      <td>Besotted (2001)</td>\n",
       "      <td>Drama</td>\n",
       "    </tr>\n",
       "  </tbody>\n",
       "</table>\n",
       "</div>"
      ],
      "text/plain": [
       "      movieId            title genres\n",
       "5694     5805  Besotted (2001)  Drama"
      ]
     },
     "execution_count": 15,
     "metadata": {},
     "output_type": "execute_result"
    }
   ],
   "source": [
    "mean_ratings = df_ratings.groupby('movieId')[['rating']].mean()\n",
    "lowest_rated = mean_ratings['rating'].idxmin()\n",
    "\n",
    "#mean_ratings\n",
    "#getting the lowest rated movie\n",
    "\n",
    "df_movies[df_movies['movieId'] == lowest_rated]"
   ]
  },
  {
   "cell_type": "code",
   "execution_count": 16,
   "id": "73f0b3c4",
   "metadata": {},
   "outputs": [
    {
     "data": {
      "text/html": [
       "<div>\n",
       "<style scoped>\n",
       "    .dataframe tbody tr th:only-of-type {\n",
       "        vertical-align: middle;\n",
       "    }\n",
       "\n",
       "    .dataframe tbody tr th {\n",
       "        vertical-align: top;\n",
       "    }\n",
       "\n",
       "    .dataframe thead th {\n",
       "        text-align: right;\n",
       "    }\n",
       "</style>\n",
       "<table border=\"1\" class=\"dataframe\">\n",
       "  <thead>\n",
       "    <tr style=\"text-align: right;\">\n",
       "      <th></th>\n",
       "      <th>movieId</th>\n",
       "      <th>title</th>\n",
       "      <th>genres</th>\n",
       "    </tr>\n",
       "  </thead>\n",
       "  <tbody>\n",
       "    <tr>\n",
       "      <th>9644</th>\n",
       "      <td>31945</td>\n",
       "      <td>Always a Bridesmaid (2000)</td>\n",
       "      <td>Documentary</td>\n",
       "    </tr>\n",
       "  </tbody>\n",
       "</table>\n",
       "</div>"
      ],
      "text/plain": [
       "      movieId                       title       genres\n",
       "9644    31945  Always a Bridesmaid (2000)  Documentary"
      ]
     },
     "execution_count": 16,
     "metadata": {},
     "output_type": "execute_result"
    }
   ],
   "source": [
    "highest_rated = mean_ratings['rating'].idxmax()\n",
    "df_movies[df_movies['movieId'] == highest_rated]"
   ]
  },
  {
   "cell_type": "code",
   "execution_count": 17,
   "id": "f6c2e4a7",
   "metadata": {},
   "outputs": [
    {
     "data": {
      "text/html": [
       "<div>\n",
       "<style scoped>\n",
       "    .dataframe tbody tr th:only-of-type {\n",
       "        vertical-align: middle;\n",
       "    }\n",
       "\n",
       "    .dataframe tbody tr th {\n",
       "        vertical-align: top;\n",
       "    }\n",
       "\n",
       "    .dataframe thead th {\n",
       "        text-align: right;\n",
       "    }\n",
       "</style>\n",
       "<table border=\"1\" class=\"dataframe\">\n",
       "  <thead>\n",
       "    <tr style=\"text-align: right;\">\n",
       "      <th></th>\n",
       "      <th>userId</th>\n",
       "      <th>movieId</th>\n",
       "      <th>rating</th>\n",
       "      <th>timestamp</th>\n",
       "    </tr>\n",
       "  </thead>\n",
       "  <tbody>\n",
       "    <tr>\n",
       "      <th>12437693</th>\n",
       "      <td>122184</td>\n",
       "      <td>31945</td>\n",
       "      <td>5.0</td>\n",
       "      <td>1553102189</td>\n",
       "    </tr>\n",
       "  </tbody>\n",
       "</table>\n",
       "</div>"
      ],
      "text/plain": [
       "          userId  movieId  rating   timestamp\n",
       "12437693  122184    31945     5.0  1553102189"
      ]
     },
     "execution_count": 17,
     "metadata": {},
     "output_type": "execute_result"
    }
   ],
   "source": [
    "df_ratings[df_ratings['movieId'] == highest_rated]"
   ]
  },
  {
   "cell_type": "markdown",
   "id": "99988e5b",
   "metadata": {},
   "source": [
    "We notice that lamerica doesnt appear in the top 10 list of highest rated movies, yet it appears to be the highest rated movie. as it only has two users that rated it.\n",
    "\n",
    "We shall therefore check the highest rated movie in another format."
   ]
  },
  {
   "cell_type": "markdown",
   "id": "b1afa88f",
   "metadata": {},
   "source": [
    "Using the Bayesian average to find the highest average rating."
   ]
  },
  {
   "cell_type": "code",
   "execution_count": 18,
   "id": "73155aa1",
   "metadata": {},
   "outputs": [
    {
     "data": {
      "text/html": [
       "<div>\n",
       "<style scoped>\n",
       "    .dataframe tbody tr th:only-of-type {\n",
       "        vertical-align: middle;\n",
       "    }\n",
       "\n",
       "    .dataframe tbody tr th {\n",
       "        vertical-align: top;\n",
       "    }\n",
       "\n",
       "    .dataframe thead tr th {\n",
       "        text-align: left;\n",
       "    }\n",
       "\n",
       "    .dataframe thead tr:last-of-type th {\n",
       "        text-align: right;\n",
       "    }\n",
       "</style>\n",
       "<table border=\"1\" class=\"dataframe\">\n",
       "  <thead>\n",
       "    <tr>\n",
       "      <th></th>\n",
       "      <th colspan=\"2\" halign=\"left\">rating</th>\n",
       "    </tr>\n",
       "    <tr>\n",
       "      <th></th>\n",
       "      <th>count</th>\n",
       "      <th>mean</th>\n",
       "    </tr>\n",
       "    <tr>\n",
       "      <th>movieId</th>\n",
       "      <th></th>\n",
       "      <th></th>\n",
       "    </tr>\n",
       "  </thead>\n",
       "  <tbody>\n",
       "    <tr>\n",
       "      <th>1</th>\n",
       "      <td>76813</td>\n",
       "      <td>3.893508</td>\n",
       "    </tr>\n",
       "    <tr>\n",
       "      <th>2</th>\n",
       "      <td>30209</td>\n",
       "      <td>3.278179</td>\n",
       "    </tr>\n",
       "    <tr>\n",
       "      <th>3</th>\n",
       "      <td>15820</td>\n",
       "      <td>3.171271</td>\n",
       "    </tr>\n",
       "    <tr>\n",
       "      <th>4</th>\n",
       "      <td>3028</td>\n",
       "      <td>2.868395</td>\n",
       "    </tr>\n",
       "    <tr>\n",
       "      <th>5</th>\n",
       "      <td>15801</td>\n",
       "      <td>3.076957</td>\n",
       "    </tr>\n",
       "  </tbody>\n",
       "</table>\n",
       "</div>"
      ],
      "text/plain": [
       "        rating          \n",
       "         count      mean\n",
       "movieId                 \n",
       "1        76813  3.893508\n",
       "2        30209  3.278179\n",
       "3        15820  3.171271\n",
       "4         3028  2.868395\n",
       "5        15801  3.076957"
      ]
     },
     "execution_count": 18,
     "metadata": {},
     "output_type": "execute_result"
    }
   ],
   "source": [
    "movie_stats = df_ratings.groupby('movieId')[['rating']].agg(['count', 'mean'])\n",
    "movie_stats.head()"
   ]
  },
  {
   "cell_type": "code",
   "execution_count": 20,
   "id": "feb43e02",
   "metadata": {},
   "outputs": [
    {
     "name": "stdout",
     "output_type": "stream",
     "text": [
      "Average number of ratings for a given movie: 406.45\n",
      "Average rating for a given movie: 3.01\n"
     ]
    }
   ],
   "source": [
    "C = movie_stats['rating']['count'].mean()\n",
    "m = movie_stats['rating']['mean'].mean()\n",
    "\n",
    "def bayesian_avg(df_ratings):\n",
    "    bayesian_avg = (C*m + df_ratings.sum()) / (C + df_ratings.count())\n",
    "    return bayesian\n",
    "\n",
    "print(f\"Average number of ratings for a given movie: {C:.2f}\")\n",
    "print(f\"Average rating for a given movie: {m:.2f}\")"
   ]
  },
  {
   "cell_type": "markdown",
   "id": "4e8d53bc",
   "metadata": {},
   "source": [
    "Therefore we can test our bayesian average function out on Lamerica"
   ]
  },
  {
   "cell_type": "code",
   "execution_count": 21,
   "id": "09e2b344",
   "metadata": {},
   "outputs": [
    {
     "name": "stdout",
     "output_type": "stream",
     "text": [
      "3.0224370976219066\n"
     ]
    }
   ],
   "source": [
    "# Using the Bayesian average to find the highest average rating.\n",
    "movie_stats = df_ratings.groupby('movieId')[['rating']].agg(['count', 'mean'])\n",
    "movie_stats.head()\n",
    "\n",
    "C = movie_stats['rating']['count'].mean()\n",
    "m = movie_stats['rating']['mean'].mean()\n",
    "\n",
    "def bayesian_avg(df_ratings):\n",
    "    bayesian_avg_value = (C*m + df_ratings.sum()) / (C + df_ratings.count()) # Changed variable name to avoid conflict\n",
    "    return bayesian_avg_value # Return the correctly named variable\n",
    "\n",
    "# Therefore we can test our bayesian average function out on Lamerica\n",
    "lamerica = pd.Series([5,5])\n",
    "print(bayesian_avg(lamerica)) # Added print to see the result"
   ]
  },
  {
   "cell_type": "code",
   "execution_count": 22,
   "id": "18c48dc4",
   "metadata": {},
   "outputs": [
    {
     "data": {
      "text/html": [
       "<div>\n",
       "<style scoped>\n",
       "    .dataframe tbody tr th:only-of-type {\n",
       "        vertical-align: middle;\n",
       "    }\n",
       "\n",
       "    .dataframe tbody tr th {\n",
       "        vertical-align: top;\n",
       "    }\n",
       "\n",
       "    .dataframe thead th {\n",
       "        text-align: right;\n",
       "    }\n",
       "</style>\n",
       "<table border=\"1\" class=\"dataframe\">\n",
       "  <thead>\n",
       "    <tr style=\"text-align: right;\">\n",
       "      <th></th>\n",
       "      <th>movieId</th>\n",
       "      <th>bayesian_avg</th>\n",
       "    </tr>\n",
       "  </thead>\n",
       "  <tbody>\n",
       "    <tr>\n",
       "      <th>0</th>\n",
       "      <td>1</td>\n",
       "      <td>3.888871</td>\n",
       "    </tr>\n",
       "    <tr>\n",
       "      <th>1</th>\n",
       "      <td>2</td>\n",
       "      <td>3.274654</td>\n",
       "    </tr>\n",
       "    <tr>\n",
       "      <th>2</th>\n",
       "      <td>3</td>\n",
       "      <td>3.167299</td>\n",
       "    </tr>\n",
       "    <tr>\n",
       "      <th>3</th>\n",
       "      <td>4</td>\n",
       "      <td>2.885473</td>\n",
       "    </tr>\n",
       "    <tr>\n",
       "      <th>4</th>\n",
       "      <td>5</td>\n",
       "      <td>3.075346</td>\n",
       "    </tr>\n",
       "  </tbody>\n",
       "</table>\n",
       "</div>"
      ],
      "text/plain": [
       "   movieId  bayesian_avg\n",
       "0        1      3.888871\n",
       "1        2      3.274654\n",
       "2        3      3.167299\n",
       "3        4      2.885473\n",
       "4        5      3.075346"
      ]
     },
     "execution_count": 22,
     "metadata": {},
     "output_type": "execute_result"
    }
   ],
   "source": [
    "bayesian_avg_ratings = df_ratings.groupby('movieId')['rating'].apply(bayesian_avg).reset_index()\n",
    "bayesian_avg_ratings.columns = ['movieId', 'bayesian_avg']\n",
    "bayesian_avg_ratings.head()"
   ]
  },
  {
   "cell_type": "code",
   "execution_count": 23,
   "id": "b00884e2",
   "metadata": {},
   "outputs": [],
   "source": [
    "# Using the Bayesian average to find the highest average rating.\n",
    "movie_stats = df_ratings.groupby('movieId')[['rating']].agg(['count', 'mean'])\n",
    "# Flatten the column index of movie_stats\n",
    "movie_stats.columns = ['_'.join(col).strip() for col in movie_stats.columns.values]\n",
    "movie_stats = movie_stats.reset_index() # Reset the index to make movieId a column\n",
    "# Flatten the column index of movie_stats\n",
    "movie_stats.columns = ['movieId', 'rating_count', 'rating_mean']  # Rename columns for clarity\n",
    "# Now movie_stats has a single-level column index\n",
    "movie_stats.head()\n",
    "\n",
    "C = movie_stats['rating_count'].mean() # Access the flattened column name\n",
    "m = movie_stats['rating_mean'].mean()   # Access the flattened column name\n",
    "\n",
    "def bayesian_avg(df_ratings):\n",
    "    bayesian_avg_value = (C*m + df_ratings.sum()) / (C + df_ratings.count())\n",
    "    return bayesian_avg_value\n",
    "\n",
    "# Now movie_stats and bayesian_avg_ratings both have a single-level column index\n",
    "movie_stats = movie_stats.merge(bayesian_avg_ratings, on='movieId')"
   ]
  },
  {
   "cell_type": "code",
   "execution_count": 24,
   "id": "26c6e7be",
   "metadata": {},
   "outputs": [
    {
     "data": {
      "text/html": [
       "<div>\n",
       "<style scoped>\n",
       "    .dataframe tbody tr th:only-of-type {\n",
       "        vertical-align: middle;\n",
       "    }\n",
       "\n",
       "    .dataframe tbody tr th {\n",
       "        vertical-align: top;\n",
       "    }\n",
       "\n",
       "    .dataframe thead th {\n",
       "        text-align: right;\n",
       "    }\n",
       "</style>\n",
       "<table border=\"1\" class=\"dataframe\">\n",
       "  <thead>\n",
       "    <tr style=\"text-align: right;\">\n",
       "      <th></th>\n",
       "      <th>movieId</th>\n",
       "      <th>rating_count</th>\n",
       "      <th>rating_mean</th>\n",
       "      <th>bayesian_avg</th>\n",
       "      <th>title</th>\n",
       "    </tr>\n",
       "  </thead>\n",
       "  <tbody>\n",
       "    <tr>\n",
       "      <th>314</th>\n",
       "      <td>318</td>\n",
       "      <td>122296</td>\n",
       "      <td>4.416792</td>\n",
       "      <td>4.412141</td>\n",
       "      <td>Shawshank Redemption, The (1994)</td>\n",
       "    </tr>\n",
       "    <tr>\n",
       "      <th>840</th>\n",
       "      <td>858</td>\n",
       "      <td>75004</td>\n",
       "      <td>4.326603</td>\n",
       "      <td>4.319521</td>\n",
       "      <td>Godfather, The (1972)</td>\n",
       "    </tr>\n",
       "    <tr>\n",
       "      <th>58750</th>\n",
       "      <td>202439</td>\n",
       "      <td>12399</td>\n",
       "      <td>4.329946</td>\n",
       "      <td>4.288137</td>\n",
       "      <td>Parasite (2019)</td>\n",
       "    </tr>\n",
       "    <tr>\n",
       "      <th>39322</th>\n",
       "      <td>159817</td>\n",
       "      <td>3015</td>\n",
       "      <td>4.448093</td>\n",
       "      <td>4.277578</td>\n",
       "      <td>Planet Earth (2006)</td>\n",
       "    </tr>\n",
       "    <tr>\n",
       "      <th>49</th>\n",
       "      <td>50</td>\n",
       "      <td>72893</td>\n",
       "      <td>4.267865</td>\n",
       "      <td>4.260905</td>\n",
       "      <td>Usual Suspects, The (1995)</td>\n",
       "    </tr>\n",
       "    <tr>\n",
       "      <th>...</th>\n",
       "      <td>...</td>\n",
       "      <td>...</td>\n",
       "      <td>...</td>\n",
       "      <td>...</td>\n",
       "      <td>...</td>\n",
       "    </tr>\n",
       "    <tr>\n",
       "      <th>9607</th>\n",
       "      <td>31698</td>\n",
       "      <td>847</td>\n",
       "      <td>1.241440</td>\n",
       "      <td>1.815796</td>\n",
       "      <td>Son of the Mask (2005)</td>\n",
       "    </tr>\n",
       "    <tr>\n",
       "      <th>11353</th>\n",
       "      <td>50798</td>\n",
       "      <td>1532</td>\n",
       "      <td>1.461488</td>\n",
       "      <td>1.786742</td>\n",
       "      <td>Epic Movie (2007)</td>\n",
       "    </tr>\n",
       "    <tr>\n",
       "      <th>6465</th>\n",
       "      <td>6587</td>\n",
       "      <td>872</td>\n",
       "      <td>1.214450</td>\n",
       "      <td>1.786155</td>\n",
       "      <td>Gigli (2003)</td>\n",
       "    </tr>\n",
       "    <tr>\n",
       "      <th>4670</th>\n",
       "      <td>4775</td>\n",
       "      <td>788</td>\n",
       "      <td>1.151015</td>\n",
       "      <td>1.784511</td>\n",
       "      <td>Glitter (2001)</td>\n",
       "    </tr>\n",
       "    <tr>\n",
       "      <th>3495</th>\n",
       "      <td>3593</td>\n",
       "      <td>5414</td>\n",
       "      <td>1.591245</td>\n",
       "      <td>1.690507</td>\n",
       "      <td>Battlefield Earth (2000)</td>\n",
       "    </tr>\n",
       "  </tbody>\n",
       "</table>\n",
       "<p>83239 rows × 5 columns</p>\n",
       "</div>"
      ],
      "text/plain": [
       "       movieId  rating_count  rating_mean  bayesian_avg  \\\n",
       "314        318        122296     4.416792      4.412141   \n",
       "840        858         75004     4.326603      4.319521   \n",
       "58750   202439         12399     4.329946      4.288137   \n",
       "39322   159817          3015     4.448093      4.277578   \n",
       "49          50         72893     4.267865      4.260905   \n",
       "...        ...           ...          ...           ...   \n",
       "9607     31698           847     1.241440      1.815796   \n",
       "11353    50798          1532     1.461488      1.786742   \n",
       "6465      6587           872     1.214450      1.786155   \n",
       "4670      4775           788     1.151015      1.784511   \n",
       "3495      3593          5414     1.591245      1.690507   \n",
       "\n",
       "                                  title  \n",
       "314    Shawshank Redemption, The (1994)  \n",
       "840               Godfather, The (1972)  \n",
       "58750                   Parasite (2019)  \n",
       "39322               Planet Earth (2006)  \n",
       "49           Usual Suspects, The (1995)  \n",
       "...                                 ...  \n",
       "9607             Son of the Mask (2005)  \n",
       "11353                 Epic Movie (2007)  \n",
       "6465                       Gigli (2003)  \n",
       "4670                     Glitter (2001)  \n",
       "3495           Battlefield Earth (2000)  \n",
       "\n",
       "[83239 rows x 5 columns]"
      ]
     },
     "execution_count": 24,
     "metadata": {},
     "output_type": "execute_result"
    }
   ],
   "source": [
    "movie_stats = movie_stats.merge(df_movies[['movieId', 'title']])\n",
    "movie_stats.sort_values(by='bayesian_avg', ascending=False)"
   ]
  },
  {
   "cell_type": "code",
   "execution_count": 25,
   "id": "6b6185d8",
   "metadata": {},
   "outputs": [
    {
     "data": {
      "text/html": [
       "<div>\n",
       "<style scoped>\n",
       "    .dataframe tbody tr th:only-of-type {\n",
       "        vertical-align: middle;\n",
       "    }\n",
       "\n",
       "    .dataframe tbody tr th {\n",
       "        vertical-align: top;\n",
       "    }\n",
       "\n",
       "    .dataframe thead th {\n",
       "        text-align: right;\n",
       "    }\n",
       "</style>\n",
       "<table border=\"1\" class=\"dataframe\">\n",
       "  <thead>\n",
       "    <tr style=\"text-align: right;\">\n",
       "      <th></th>\n",
       "      <th>movieId</th>\n",
       "      <th>rating_count</th>\n",
       "      <th>rating_mean</th>\n",
       "      <th>bayesian_avg</th>\n",
       "      <th>title</th>\n",
       "    </tr>\n",
       "  </thead>\n",
       "  <tbody>\n",
       "    <tr>\n",
       "      <th>3495</th>\n",
       "      <td>3593</td>\n",
       "      <td>5414</td>\n",
       "      <td>1.591245</td>\n",
       "      <td>1.690507</td>\n",
       "      <td>Battlefield Earth (2000)</td>\n",
       "    </tr>\n",
       "    <tr>\n",
       "      <th>4670</th>\n",
       "      <td>4775</td>\n",
       "      <td>788</td>\n",
       "      <td>1.151015</td>\n",
       "      <td>1.784511</td>\n",
       "      <td>Glitter (2001)</td>\n",
       "    </tr>\n",
       "    <tr>\n",
       "      <th>6465</th>\n",
       "      <td>6587</td>\n",
       "      <td>872</td>\n",
       "      <td>1.214450</td>\n",
       "      <td>1.786155</td>\n",
       "      <td>Gigli (2003)</td>\n",
       "    </tr>\n",
       "    <tr>\n",
       "      <th>11353</th>\n",
       "      <td>50798</td>\n",
       "      <td>1532</td>\n",
       "      <td>1.461488</td>\n",
       "      <td>1.786742</td>\n",
       "      <td>Epic Movie (2007)</td>\n",
       "    </tr>\n",
       "    <tr>\n",
       "      <th>9607</th>\n",
       "      <td>31698</td>\n",
       "      <td>847</td>\n",
       "      <td>1.241440</td>\n",
       "      <td>1.815796</td>\n",
       "      <td>Son of the Mask (2005)</td>\n",
       "    </tr>\n",
       "  </tbody>\n",
       "</table>\n",
       "</div>"
      ],
      "text/plain": [
       "       movieId  rating_count  rating_mean  bayesian_avg  \\\n",
       "3495      3593          5414     1.591245      1.690507   \n",
       "4670      4775           788     1.151015      1.784511   \n",
       "6465      6587           872     1.214450      1.786155   \n",
       "11353    50798          1532     1.461488      1.786742   \n",
       "9607     31698           847     1.241440      1.815796   \n",
       "\n",
       "                          title  \n",
       "3495   Battlefield Earth (2000)  \n",
       "4670             Glitter (2001)  \n",
       "6465               Gigli (2003)  \n",
       "11353         Epic Movie (2007)  \n",
       "9607     Son of the Mask (2005)  "
      ]
     },
     "execution_count": 25,
     "metadata": {},
     "output_type": "execute_result"
    }
   ],
   "source": [
    "movie_stats.sort_values('bayesian_avg', ascending=True).head()"
   ]
  },
  {
   "cell_type": "markdown",
   "id": "002f59f1",
   "metadata": {},
   "source": [
    "Using the Bayesian average, we see that `Shawshank Redemption`, `The Godfather`, and `The Usual Suspects` are the most highly rated movies. This result makes much more sense since these movies are critically acclaimed films.\n",
    "\n",
    "With Bayesian averaging, it looks like `Speed 2: Cruise Control`, `Battlefield Earth`, and `Godzilla` are the worst rated movies. `Gypsy` isn't so bad after all."
   ]
  },
  {
   "cell_type": "markdown",
   "id": "ce2faeee",
   "metadata": {},
   "source": [
    "### A Glimpse at Movie Genres\n",
    "\n",
    "The movies dataset needs to be cleaned in two ways:\n",
    "\n",
    "- `genres` is expressed as a string with a pipe `|` separating each genre. We will manipulate this string into a list, which will make it much easier to analyze.\n",
    "- `title` currently has (year) appended at the end. We will extract year from each title string and create a new column for it."
   ]
  },
  {
   "cell_type": "code",
   "execution_count": 26,
   "id": "c9bdd71e",
   "metadata": {},
   "outputs": [
    {
     "data": {
      "text/html": [
       "<div>\n",
       "<style scoped>\n",
       "    .dataframe tbody tr th:only-of-type {\n",
       "        vertical-align: middle;\n",
       "    }\n",
       "\n",
       "    .dataframe tbody tr th {\n",
       "        vertical-align: top;\n",
       "    }\n",
       "\n",
       "    .dataframe thead th {\n",
       "        text-align: right;\n",
       "    }\n",
       "</style>\n",
       "<table border=\"1\" class=\"dataframe\">\n",
       "  <thead>\n",
       "    <tr style=\"text-align: right;\">\n",
       "      <th></th>\n",
       "      <th>movieId</th>\n",
       "      <th>title</th>\n",
       "      <th>genres</th>\n",
       "    </tr>\n",
       "  </thead>\n",
       "  <tbody>\n",
       "    <tr>\n",
       "      <th>0</th>\n",
       "      <td>1</td>\n",
       "      <td>Toy Story (1995)</td>\n",
       "      <td>Adventure|Animation|Children|Comedy|Fantasy</td>\n",
       "    </tr>\n",
       "    <tr>\n",
       "      <th>1</th>\n",
       "      <td>2</td>\n",
       "      <td>Jumanji (1995)</td>\n",
       "      <td>Adventure|Children|Fantasy</td>\n",
       "    </tr>\n",
       "    <tr>\n",
       "      <th>2</th>\n",
       "      <td>3</td>\n",
       "      <td>Grumpier Old Men (1995)</td>\n",
       "      <td>Comedy|Romance</td>\n",
       "    </tr>\n",
       "    <tr>\n",
       "      <th>3</th>\n",
       "      <td>4</td>\n",
       "      <td>Waiting to Exhale (1995)</td>\n",
       "      <td>Comedy|Drama|Romance</td>\n",
       "    </tr>\n",
       "    <tr>\n",
       "      <th>4</th>\n",
       "      <td>5</td>\n",
       "      <td>Father of the Bride Part II (1995)</td>\n",
       "      <td>Comedy</td>\n",
       "    </tr>\n",
       "  </tbody>\n",
       "</table>\n",
       "</div>"
      ],
      "text/plain": [
       "   movieId                               title  \\\n",
       "0        1                    Toy Story (1995)   \n",
       "1        2                      Jumanji (1995)   \n",
       "2        3             Grumpier Old Men (1995)   \n",
       "3        4            Waiting to Exhale (1995)   \n",
       "4        5  Father of the Bride Part II (1995)   \n",
       "\n",
       "                                        genres  \n",
       "0  Adventure|Animation|Children|Comedy|Fantasy  \n",
       "1                   Adventure|Children|Fantasy  \n",
       "2                               Comedy|Romance  \n",
       "3                         Comedy|Drama|Romance  \n",
       "4                                       Comedy  "
      ]
     },
     "execution_count": 26,
     "metadata": {},
     "output_type": "execute_result"
    }
   ],
   "source": [
    "df_movies.head()"
   ]
  },
  {
   "cell_type": "markdown",
   "id": "6dd6e92c",
   "metadata": {},
   "source": [
    "### 3. Modelling"
   ]
  },
  {
   "cell_type": "markdown",
   "id": "0dca3852",
   "metadata": {},
   "source": [
    "## 3.1 Recommender Systems\n",
    "It's now time to transform the dataset into something compatible with `surprise`. In order to do this, you're going to need `Reader` and `Dataset` classes. There's a method in `Dataset` specifically for loading dataframes."
   ]
  },
  {
   "cell_type": "code",
   "execution_count": 27,
   "id": "483efec3",
   "metadata": {},
   "outputs": [],
   "source": [
    "from surprise import Reader, Dataset\n",
    "# Sample from the full merged dataset \n",
    "sample_df = merged_df[['userId', 'movieId', 'rating']].sample(n=500, random_state=42)\n",
    "\n",
    "# Define reader with rating scale\n",
    "reader = Reader(rating_scale=(0.5, 5.0))\n",
    "data = Dataset.load_from_df(sample_df, reader)                   "
   ]
  },
  {
   "cell_type": "markdown",
   "id": "023ef7a8",
   "metadata": {},
   "source": [
    "## 3.1.1 Determine the best model \n",
    "\n",
    "Now, compare the different models and see which ones perform best. For consistency sake, use RMSE to evaluate models. Remember to cross-validate! Can you get a model with a higher average RMSE on test data than 0.869?"
   ]
  },
  {
   "cell_type": "code",
   "execution_count": 28,
   "id": "0063c079",
   "metadata": {},
   "outputs": [],
   "source": [
    "# importing relevant libraries\n",
    "from surprise.model_selection import cross_validate\n",
    "from surprise.prediction_algorithms import SVD\n",
    "from surprise.prediction_algorithms import KNNWithMeans, KNNBasic, KNNBaseline\n",
    "from surprise.model_selection import GridSearchCV\n",
    "import numpy as np"
   ]
  },
  {
   "cell_type": "markdown",
   "id": "135c4dec",
   "metadata": {},
   "source": [
    "# 3.1.1.1 SVD Model"
   ]
  },
  {
   "cell_type": "code",
   "execution_count": 29,
   "id": "30156490",
   "metadata": {},
   "outputs": [],
   "source": [
    "## Performing a gridsearch with SVD\n",
    "# Define SVD parameter grid\n",
    "param_grid_svd = {\n",
    "    'n_factors': [50, 100],\n",
    "    'n_epochs': [20, 30],\n",
    "    'lr_all': [0.002, 0.005],\n",
    "    'reg_all': [0.02, 0.1]\n",
    "}\n",
    "\n",
    "# Run GridSearchCV with both RMSE and MAE\n",
    "gs_svd = GridSearchCV(SVD, param_grid_svd, measures=['rmse', 'mae'], cv=3)\n",
    "gs_svd.fit(data)"
   ]
  },
  {
   "cell_type": "code",
   "execution_count": 30,
   "id": "a1a597db",
   "metadata": {},
   "outputs": [
    {
     "name": "stdout",
     "output_type": "stream",
     "text": [
      "Best SVD RMSE: 1.0166218677624508\n",
      "Best SVD MAE: 0.7959865591144627\n",
      "Best SVD parameters: {'n_factors': 50, 'n_epochs': 30, 'lr_all': 0.005, 'reg_all': 0.1}\n"
     ]
    }
   ],
   "source": [
    "# printing out optimal parameters for SVD after GridSearch\n",
    "\n",
    "# Print best scores and parameters\n",
    "print(\"Best SVD RMSE:\", gs_svd.best_score['rmse'])\n",
    "print(\"Best SVD MAE:\", gs_svd.best_score['mae'])\n",
    "print(\"Best SVD parameters:\", gs_svd.best_params['rmse'])"
   ]
  },
  {
   "cell_type": "markdown",
   "id": "a0b7c544",
   "metadata": {},
   "source": [
    "The optimized SVD model has low prediction error with well-tuned parameters."
   ]
  },
  {
   "cell_type": "code",
   "execution_count": 31,
   "id": "8cec458c",
   "metadata": {},
   "outputs": [
    {
     "name": "stdout",
     "output_type": "stream",
     "text": [
      "Computing the cosine similarity matrix...\n",
      "Done computing similarity matrix.\n",
      "Computing the cosine similarity matrix...\n",
      "Done computing similarity matrix.\n",
      "Computing the cosine similarity matrix...\n",
      "Done computing similarity matrix.\n",
      "Computing the cosine similarity matrix...\n",
      "Done computing similarity matrix.\n",
      "Computing the cosine similarity matrix...\n",
      "Done computing similarity matrix.\n",
      "Computing the cosine similarity matrix...\n",
      "Done computing similarity matrix.\n",
      "Computing the pearson similarity matrix...\n",
      "Done computing similarity matrix.\n",
      "Computing the pearson similarity matrix...\n",
      "Done computing similarity matrix.\n",
      "Computing the pearson similarity matrix...\n",
      "Done computing similarity matrix.\n",
      "Computing the pearson similarity matrix...\n",
      "Done computing similarity matrix.\n",
      "Computing the pearson similarity matrix...\n",
      "Done computing similarity matrix.\n",
      "Computing the pearson similarity matrix...\n",
      "Done computing similarity matrix.\n",
      "Computing the cosine similarity matrix...\n",
      "Done computing similarity matrix.\n",
      "Computing the cosine similarity matrix...\n",
      "Done computing similarity matrix.\n",
      "Computing the cosine similarity matrix...\n",
      "Done computing similarity matrix.\n",
      "Computing the cosine similarity matrix...\n",
      "Done computing similarity matrix.\n",
      "Computing the cosine similarity matrix...\n",
      "Done computing similarity matrix.\n",
      "Computing the cosine similarity matrix...\n",
      "Done computing similarity matrix.\n",
      "Computing the pearson similarity matrix...\n",
      "Done computing similarity matrix.\n",
      "Computing the pearson similarity matrix...\n",
      "Done computing similarity matrix.\n",
      "Computing the pearson similarity matrix...\n",
      "Done computing similarity matrix.\n",
      "Computing the pearson similarity matrix...\n",
      "Done computing similarity matrix.\n",
      "Computing the pearson similarity matrix...\n",
      "Done computing similarity matrix.\n",
      "Computing the pearson similarity matrix...\n",
      "Done computing similarity matrix.\n",
      "Computing the cosine similarity matrix...\n",
      "Done computing similarity matrix.\n",
      "Computing the cosine similarity matrix...\n",
      "Done computing similarity matrix.\n",
      "Computing the cosine similarity matrix...\n",
      "Done computing similarity matrix.\n",
      "Computing the cosine similarity matrix...\n",
      "Done computing similarity matrix.\n",
      "Computing the cosine similarity matrix...\n",
      "Done computing similarity matrix.\n",
      "Computing the cosine similarity matrix...\n",
      "Done computing similarity matrix.\n",
      "Computing the pearson similarity matrix...\n",
      "Done computing similarity matrix.\n",
      "Computing the pearson similarity matrix...\n",
      "Done computing similarity matrix.\n",
      "Computing the pearson similarity matrix...\n",
      "Done computing similarity matrix.\n",
      "Computing the pearson similarity matrix...\n",
      "Done computing similarity matrix.\n",
      "Computing the pearson similarity matrix...\n",
      "Done computing similarity matrix.\n",
      "Computing the pearson similarity matrix...\n",
      "Done computing similarity matrix.\n"
     ]
    }
   ],
   "source": [
    "# cross validating with KNNBasic\n",
    "# Define parameter grid for KNNBasic\n",
    "param_grid_knn_basic = {\n",
    "    'k': [20, 30, 40],\n",
    "    'sim_options': {\n",
    "        'name': ['cosine', 'pearson'],\n",
    "        'user_based': [True, False]\n",
    "    }\n",
    "}\n",
    "\n",
    "# Run GridSearchCV\n",
    "gs_knn_basic = GridSearchCV(KNNBasic, param_grid_knn_basic, measures=['rmse', 'mae'], cv=3)\n",
    "gs_knn_basic.fit(data)"
   ]
  },
  {
   "cell_type": "code",
   "execution_count": 32,
   "id": "59955786",
   "metadata": {},
   "outputs": [
    {
     "name": "stdout",
     "output_type": "stream",
     "text": [
      "Best KNNBasic RMSE: 1.0186856013106658\n",
      "Best KNNBasic MAE: 0.7990581303473592\n",
      "Best KNNBasic parameters: {'k': 20, 'sim_options': {'name': 'cosine', 'user_based': True}}\n"
     ]
    }
   ],
   "source": [
    "# print out the average RMSE score for the test set\n",
    "# Print best scores and parameters\n",
    "print(\"Best KNNBasic RMSE:\", gs_knn_basic.best_score['rmse'])\n",
    "print(\"Best KNNBasic MAE:\", gs_knn_basic.best_score['mae'])\n",
    "print(\"Best KNNBasic parameters:\", gs_knn_basic.best_params['rmse'])"
   ]
  },
  {
   "cell_type": "markdown",
   "id": "965fab3e",
   "metadata": {},
   "source": [
    "## 3.1.1.2 cross validating with KNNBaseline"
   ]
  },
  {
   "cell_type": "code",
   "execution_count": 33,
   "id": "f7b29edf",
   "metadata": {},
   "outputs": [
    {
     "name": "stdout",
     "output_type": "stream",
     "text": [
      "Estimating biases using als...\n",
      "Computing the msd similarity matrix...\n",
      "Done computing similarity matrix.\n",
      "Estimating biases using als...\n",
      "Computing the msd similarity matrix...\n",
      "Done computing similarity matrix.\n",
      "Estimating biases using als...\n",
      "Computing the msd similarity matrix...\n",
      "Done computing similarity matrix.\n",
      "Estimating biases using als...\n",
      "Computing the msd similarity matrix...\n",
      "Done computing similarity matrix.\n",
      "Estimating biases using als...\n",
      "Computing the msd similarity matrix...\n",
      "Done computing similarity matrix.\n"
     ]
    }
   ],
   "source": [
    "# cross validating with KNNBaseline\n",
    "\n",
    "# Instantiate the model\n",
    "model = KNNBaseline()\n",
    "\n",
    "# Run cross-validation\n",
    "cv_results = cross_validate(model, data, measures=['RMSE', 'MAE'], cv=5, return_train_measures=False)"
   ]
  },
  {
   "cell_type": "code",
   "execution_count": 34,
   "id": "f9027b1d",
   "metadata": {},
   "outputs": [
    {
     "name": "stdout",
     "output_type": "stream",
     "text": [
      "('test_rmse', array([1.07175078, 1.03567402, 0.97106886, 0.94692568, 1.05445784]))\n",
      "('test_mae', array([0.82243137, 0.82083609, 0.75841036, 0.72566015, 0.85030976]))\n",
      "('fit_time', array([0.0089767 , 0.00498843, 0.00398707, 0.00298858, 0.0039866 ]))\n",
      "('test_time', array([0.00199533, 0.0009973 , 0.00099802, 0.        , 0.00099659]))\n",
      "Mean RMSE: 1.01597543638285\n",
      "Mean MAE: 0.795529545546914\n",
      "Mean Fit Time: 0.0049854755401611325\n"
     ]
    }
   ],
   "source": [
    "# printing out the average score for the test set\n",
    "\n",
    "# Printing detailed fold results\n",
    "print(('test_rmse', np.array(cv_results['test_rmse'])))\n",
    "print(('test_mae', np.array(cv_results['test_mae'])))\n",
    "print(('fit_time', np.array(cv_results['fit_time'])))\n",
    "print(('test_time', np.array(cv_results['test_time'])))\n",
    "\n",
    "# Print mean RMSE\n",
    "print(\"Mean RMSE:\", np.mean(cv_results['test_rmse']))\n",
    "# Print mean MAE\n",
    "print(\"Mean MAE:\", np.mean(cv_results['test_mae']))\n",
    "# Print fit time\n",
    "print(\"Mean Fit Time:\", np.mean(cv_results['fit_time']))"
   ]
  },
  {
   "cell_type": "markdown",
   "id": "955477c1",
   "metadata": {},
   "source": [
    "The model shows good performance. The model is accurate and efficient."
   ]
  },
  {
   "cell_type": "markdown",
   "id": "bc523222",
   "metadata": {},
   "source": [
    "# 4 Evaluation"
   ]
  },
  {
   "cell_type": "markdown",
   "id": "ad1d06cb",
   "metadata": {},
   "source": [
    "# 4.1. Using Train-Test Split"
   ]
  },
  {
   "cell_type": "code",
   "execution_count": 35,
   "id": "cd8a7e92",
   "metadata": {},
   "outputs": [
    {
     "name": "stdout",
     "output_type": "stream",
     "text": [
      "RMSE: 0.8604\n",
      "MAE:  0.7139\n"
     ]
    }
   ],
   "source": [
    "from surprise.model_selection import train_test_split\n",
    "from surprise import SVD\n",
    "from surprise import accuracy\n",
    "\n",
    "# Load data\n",
    "trainset, testset = train_test_split(data, test_size=0.2, random_state=42)\n",
    "\n",
    "# Train model on training set\n",
    "model = SVD(n_factors=100, n_epochs=30, lr_all=0.005, reg_all=0.02)\n",
    "model.fit(trainset)\n",
    "\n",
    "# Predict on test set\n",
    "predictions = model.test(testset)\n",
    "\n",
    "# Evaluate\n",
    "rmse = accuracy.rmse(predictions)\n",
    "mae = accuracy.mae(predictions)"
   ]
  },
  {
   "cell_type": "markdown",
   "id": "d18697c8",
   "metadata": {},
   "source": [
    "# 4.2. Using  Cross-Validation\n",
    "Already covered under part' 3.1.1.2 '"
   ]
  },
  {
   "cell_type": "markdown",
   "id": "5410fbb5",
   "metadata": {},
   "source": [
    "### 5. Data Analysis\n"
   ]
  },
  {
   "cell_type": "markdown",
   "id": "14663ce7",
   "metadata": {},
   "source": [
    "### 5.1. Bar Plot of Best RMSE Scores for Each Model\n",
    "This helps quickly compare model performance"
   ]
  },
  {
   "cell_type": "code",
   "execution_count": 36,
   "id": "fee5c1f1",
   "metadata": {},
   "outputs": [
    {
     "data": {
      "image/png": "[encoded data removed]",
      "text/plain": [
       "<Figure size 800x500 with 1 Axes>"
      ]
     },
     "metadata": {},
     "output_type": "display_data"
    }
   ],
   "source": [
    "import matplotlib.pyplot as plt\n",
    "\n",
    "# Best scores from grid search\n",
    "model_names = ['SVD', 'KNNBasic']\n",
    "rmse_scores = [gs_svd.best_score['rmse'], gs_knn_basic.best_score['rmse']]\n",
    "mae_scores = [gs_svd.best_score['mae'], gs_knn_basic.best_score['mae']]\n",
    "\n",
    "# Plot\n",
    "plt.figure(figsize=(8, 5))\n",
    "x = np.arange(len(model_names))\n",
    "bar1 = plt.bar(x - 0.15, rmse_scores, width=0.3, label='RMSE', color='steelblue')\n",
    "bar2 = plt.bar(x + 0.15, mae_scores, width=0.3, label='MAE', color='darkorange')\n",
    "\n",
    "# Add labels\n",
    "plt.xticks(x, model_names)\n",
    "plt.ylabel('Error Score')\n",
    "plt.title('Comparison of SVD and KNNBasic (Lower is Better)')\n",
    "plt.legend()\n",
    "plt.grid(True)\n",
    "plt.show()"
   ]
  },
  {
   "cell_type": "markdown",
   "id": "6553122a",
   "metadata": {},
   "source": [
    "The bar chart compares two recommender models SVD and KNNBasic  using RMSE and MAE scores on the MovieLens dataset.\n",
    "\n",
    "- SVD performs slightly better, with lower error scores.\n",
    "\n",
    "- Both models give similar results, but SVD is more accurate overall.\n",
    "\n",
    "- RMSE (blue) measures large errors more harshly, while MAE (orange) shows average error size.\n",
    "\n",
    "- Lower scores are better, so SVD is the preferred model for predicting movie ratings accurately."
   ]
  },
  {
   "cell_type": "markdown",
   "id": "159013e9",
   "metadata": {},
   "source": [
    "## 5.2. Line Plot (RMSE vs. Hyperparameters)\n",
    "Shows trends in RMSE as you tweak one hyperparameter while keeping others constant."
   ]
  },
  {
   "cell_type": "code",
   "execution_count": 37,
   "id": "8c0f9dea",
   "metadata": {},
   "outputs": [
    {
     "data": {
      "image/png": "[encoded data removed]",
      "text/plain": [
       "<Figure size 800x500 with 1 Axes>"
      ]
     },
     "metadata": {},
     "output_type": "display_data"
    }
   ],
   "source": [
    "# Filter SVD results where other parameters are constant\n",
    "df_svd = pd.DataFrame(gs_svd.cv_results)\n",
    "# Filter for specific parameters to plot RMSE vs. n_factors\n",
    "filtered_svd = df_svd[(df_svd['param_reg_all'] == 0.02) & (df_svd['param_n_epochs'] == 20)]\n",
    "\n",
    "plt.figure(figsize=(8, 5))\n",
    "plt.plot(filtered_svd['param_n_factors'], filtered_svd['mean_test_rmse'], marker='o', linestyle='--')\n",
    "plt.title(\"RMSE vs. n_factors (SVD)\")\n",
    "plt.xlabel(\"n_factors\")\n",
    "plt.ylabel(\"RMSE\")\n",
    "plt.grid(True)\n",
    "plt.show()"
   ]
  },
  {
   "cell_type": "markdown",
   "id": "7a1d1b0d",
   "metadata": {},
   "source": [
    "The graph shows how RMSE changes with different n_factors in the SVD model.\n",
    "\n",
    "- Lowest RMSE occurs at n_factors = 50, meaning best performance.\n",
    "\n",
    "- Increasing n_factors to 100 slightly worsens RMSE.\n",
    "\n",
    "\n",
    "Hence using 50 latent factors gives the best prediction accuracy. More factors do not improve results and may lead to overfitting."
   ]
  },
  {
   "cell_type": "markdown",
   "id": "b536d1e7",
   "metadata": {},
   "source": [
    "### 6. Key findings "
   ]
  },
  {
   "cell_type": "markdown",
   "id": "025a3bf4",
   "metadata": {},
   "source": [
    "This analysis aimed to develop and evaluate recommender system models to predict user ratings for movies using the MovieLens dataset. Two algorithms, SVD (Singular Value Decomposition) and KNNBasic, were compared using cross-validation with RMSE and MAE as evaluation metrics.\n",
    "\n",
    "From the results, the SVD model consistently outperformed KNNBasic, achieving lower RMSE and MAE values. This indicates that SVD is better at capturing underlying patterns in user movie interactions and provides more accurate rating predictions.\n",
    "\n",
    "Further analysis of the SVD model revealed that the optimal number of latent factors is 50, where RMSE was lowest. Increasing this number to 100 did not improve the model and slightly worsened performance, suggesting that adding more complexity does not always lead to better results and may cause overfitting.\n",
    "\n",
    "The evaluation metrics RMSE, which penalizes large errors more, and MAE, which shows average error both support the conclusion that SVD offers stronger predictive power. GridSearchCV confirmed the best hyperparameters for SVD, but visual RMSE analysis emphasizes the importance of carefully choosing model complexity (like the number of latent factors).\n",
    "\n",
    "Overall, this project demonstrates that SVD is an effective and reliable recommendation algorithm for predicting movie preferences. It should be prioritized for deployment in movie recommendation scenarios where accuracy and generalization are critical."
   ]
  },
  {
   "cell_type": "markdown",
   "id": "7dd3f696",
   "metadata": {},
   "source": [
    "### 7. Recommendations "
   ]
  },
  {
   "cell_type": "markdown",
   "id": "6ce98ca8",
   "metadata": {},
   "source": [
    "\n",
    "1) Adopt SVD as the Primary Recommender Engine\n",
    "\n",
    "- It provides the most accurate rating predictions with lower error rates.\n",
    "\n",
    "- Use optimal hyperparameters (e.g., n_factors=50, reg_all=0.02) to avoid overfitting and maximize performance.\n",
    "\n",
    "2) Incorporate Tags for Enhanced Personalization\n",
    "\n",
    "- Integrate user tags into the recommendation pipeline to better capture user interests and context.\n",
    "\n",
    "- Use NLP techniques to cluster or categorize tags for broader theme detection.\n",
    "\n",
    "3) Focus Content Promotion on High-Performing Genres\n",
    "\n",
    "- Prioritize and recommend genres like Action, Adventure, Sci-Fi, and Drama, which show high engagement.\n",
    "\n",
    "- Consider combining these genres with popular tags to suggest trending or similar films.\n",
    "\n",
    "4) Educate Users with Explainable Recommendations\n",
    "\n",
    "- Display short explanations for each recommendation (e.g., “Because you liked Interstellar” or “Tagged as ‘mind-bending’”).\n",
    "\n",
    "- Improves transparency and builds trust in the system.\n",
    "\n",
    "5) Continuously Monitor and Fine Tune Models\n",
    "\n",
    "- Set up regular evaluations to ensure the model adapts to new data and user behaviors.\n",
    "\n",
    "- Track performance metrics (RMSE, MAE) alongside engagement indicators (click-throughs, watch completion).\n",
    "\n"
   ]
  },
  {
   "cell_type": "markdown",
   "id": "8af63edf",
   "metadata": {},
   "source": [
    "### 8. Summary\n",
    "\n",
    "This project successfully developed and evaluated a movie recommendation system using the MovieLens dataset. After comparing different models, Singular Value Decomposition (SVD) emerged as the most accurate, achieving the lowest RMSE and MAE scores. The analysis also highlighted the importance of hyperparameter tuning, with n_factors = 50 yielding the best performance.\n",
    "\n",
    "Additionally, incorporating user-generated tags and focusing on high-performing genres like Action, Adventure, Sci-Fi, and Drama can significantly enhance personalization. These insights support the goal of improving user engagement and satisfaction on the platform.\n",
    "\n",
    "Overall, a data-driven recommendation system, enhanced with user preferences and explainability, offers a powerful tool for delivering relevant and enjoyable movie suggestions. Continued model optimization and feedback integration will ensure long-term success."
   ]
  }
 ],
 "metadata": {
  "kernelspec": {
   "display_name": "Python 3",
   "language": "python",
   "name": "python3"
  },
  "language_info": {
   "codemirror_mode": {
    "name": "ipython",
    "version": 3
   },
   "file_extension": ".py",
   "mimetype": "text/x-python",
   "name": "python",
   "nbconvert_exporter": "python",
   "pygments_lexer": "ipython3",
   "version": "3.11.9"
  }
 },
 "nbformat": 4,
 "nbformat_minor": 5
}
